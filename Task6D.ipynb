{
 "cells": [
  {
   "cell_type": "markdown",
   "id": "63176eac",
   "metadata": {},
   "source": [
    "# Task 6D: SQL vs Pandas\n",
    "## Shouvanik Sarkar, Student ID: 225174439, email id: s225174439@deakin.edu.au"
   ]
  },
  {
   "cell_type": "markdown",
   "id": "548f5dea",
   "metadata": {},
   "source": [
    "Importing all the required libraries"
   ]
  },
  {
   "cell_type": "code",
   "execution_count": 1,
   "id": "46cdf149",
   "metadata": {
    "lines_to_next_cell": 0
   },
   "outputs": [],
   "source": [
    "import numpy as np\n",
    "import pandas as pd\n",
    "pd.set_option(\"display.notebook_repr_html\", False)  # disable \"rich\" output\n",
    "import sqlite3"
   ]
  },
  {
   "cell_type": "markdown",
   "id": "cffd4edf",
   "metadata": {},
   "source": [
    "### Reading all the required files for the activity and storing them in the dataframes. "
   ]
  },
  {
   "cell_type": "code",
   "execution_count": 4,
   "id": "949ef460",
   "metadata": {},
   "outputs": [],
   "source": [
    "import os\n",
    "weather = pd.read_csv(r\"D:\\Study-Great Learning\\Deakin\\Data Wrangling\\Tasks\\data_files\\nycflights13_weather\\weather.csv\", delimiter=',', comment='#')\n",
    "airlines = pd.read_csv(r\"D:\\Study-Great Learning\\Deakin\\Data Wrangling\\Tasks\\data_files\\nycflights13_airlines\\airlines.csv\" ,delimiter=',', comment='#')\n",
    "airports = pd.read_csv(r\"D:\\Study-Great Learning\\Deakin\\Data Wrangling\\Tasks\\data_files\\nycflights13_airports\\airports.csv\" ,delimiter=',', comment='#')\n",
    "flights = pd.read_csv(r\"D:\\Study-Great Learning\\Deakin\\Data Wrangling\\Tasks\\data_files\\nycflights13_flights\\flights.csv\" ,delimiter=',', comment='#')\n",
    "planes = pd.read_csv(r\"D:\\Study-Great Learning\\Deakin\\Data Wrangling\\Tasks\\data_files\\nycflights13_planes\\planes.csv\" ,delimiter=',', comment='#')"
   ]
  },
  {
   "cell_type": "code",
   "execution_count": null,
   "id": "7d0dcd28",
   "metadata": {},
   "outputs": [],
   "source": [
    "### Creating a temporary file for Database"
   ]
  },
  {
   "cell_type": "markdown",
   "id": "9e0ddd38-8e90-43a0-94e0-c64cbfc196f3",
   "metadata": {},
   "source": [
    "creating a temporary data base file in system."
   ]
  },
  {
   "cell_type": "code",
   "execution_count": 6,
   "id": "bd94eecc",
   "metadata": {},
   "outputs": [
    {
     "name": "stdout",
     "output_type": "stream",
     "text": [
      "C:\\Users\\TARUNK~1\\AppData\\Local\\Temp\\tmpk9dtr_54\\travel.db\n"
     ]
    }
   ],
   "source": [
    "import tempfile, os.path\n",
    "dbfile = os.path.join(tempfile.mkdtemp(), \"travel.db\")\n",
    "print(dbfile)"
   ]
  },
  {
   "cell_type": "code",
   "execution_count": 8,
   "id": "41f17a81",
   "metadata": {},
   "outputs": [],
   "source": [
    "conn = sqlite3.connect(dbfile)##connecting to db file"
   ]
  },
  {
   "cell_type": "code",
   "execution_count": 10,
   "id": "9c1f996f",
   "metadata": {},
   "outputs": [
    {
     "name": "stdout",
     "output_type": "stream",
     "text": [
      "<sqlite3.Connection object at 0x000001FF6372F100>\n"
     ]
    }
   ],
   "source": [
    "print(conn)"
   ]
  },
  {
   "cell_type": "markdown",
   "id": "677d3c77",
   "metadata": {},
   "source": [
    "#### Connecting to Database and reading the dataframes. "
   ]
  },
  {
   "cell_type": "code",
   "execution_count": 12,
   "id": "ea53d7dd",
   "metadata": {},
   "outputs": [
    {
     "data": {
      "text/plain": [
       "3322"
      ]
     },
     "execution_count": 12,
     "metadata": {},
     "output_type": "execute_result"
    }
   ],
   "source": [
    "weather.to_sql(\"weather\", conn, index=False)\n",
    "airlines.to_sql(\"airlines\", conn, index=False)\n",
    "airports.to_sql(\"airports\", conn, index=False)\n",
    "flights.to_sql(\"flights\", conn, index=False)\n",
    "planes.to_sql(\"planes\", conn, index=False)"
   ]
  },
  {
   "cell_type": "markdown",
   "id": "313c8d14",
   "metadata": {},
   "source": [
    "#### 1st Task\n",
    "lets check distinct engines in planes table, and lets compare if any differences we observe between dataframe and Structured Query Language. "
   ]
  },
  {
   "cell_type": "code",
   "execution_count": 27,
   "id": "4c7b6cf9",
   "metadata": {},
   "outputs": [
    {
     "name": "stdout",
     "output_type": "stream",
     "text": [
      "          engine\n",
      "0      Turbo-fan\n",
      "1      Turbo-jet\n",
      "2  Reciprocating\n",
      "3        4 Cycle\n",
      "4    Turbo-shaft\n",
      "5     Turbo-prop\n"
     ]
    }
   ],
   "source": [
    "task1_s =pd.read_sql_query(\"\"\"\n",
    "   SELECT DISTINCT engine FROM planes\n",
    "\"\"\", conn)\n",
    "print(task1_s)"
   ]
  },
  {
   "cell_type": "code",
   "execution_count": 19,
   "id": "74f84dc5",
   "metadata": {},
   "outputs": [
    {
     "name": "stdout",
     "output_type": "stream",
     "text": [
      "          engine\n",
      "0      Turbo-fan\n",
      "1      Turbo-jet\n",
      "2  Reciprocating\n",
      "3        4 Cycle\n",
      "4    Turbo-shaft\n",
      "5     Turbo-prop\n"
     ]
    }
   ],
   "source": [
    "task1_pd = planes['engine'].unique()\n",
    "task1_pd = pd.DataFrame(task1_pd)\n",
    "task1_pd.columns = ['engine']\n",
    "print(task1_pd)"
   ]
  },
  {
   "cell_type": "markdown",
   "id": "1b0e16db",
   "metadata": {},
   "source": [
    "#### Compare the result set of pandas and database\n",
    "On printing both from sql and pandas, we can see values match exactly.\n",
    "There are five different types of engine in the dataset for planes. \n",
    "\n",
    "Below command will print for any variance between sql and pandas. "
   ]
  },
  {
   "cell_type": "code",
   "execution_count": 30,
   "id": "339ebb7b",
   "metadata": {},
   "outputs": [
    {
     "name": "stdout",
     "output_type": "stream",
     "text": [
      "Errors for 1st Task(if any): None\n"
     ]
    }
   ],
   "source": [
    "print(\"Errors for 1st Task(if any):\", pd.testing.assert_frame_equal(task1_s,task1_pd))"
   ]
  },
  {
   "cell_type": "markdown",
   "id": "8d12ee2b",
   "metadata": {},
   "source": [
    "#### 2nd Task\n",
    "Lets print for differnt type and engine from the database table planes. And lets print the dataset from both pandas and sql"
   ]
  },
  {
   "cell_type": "code",
   "execution_count": 33,
   "id": "218f445e",
   "metadata": {
    "lines_to_next_cell": 0
   },
   "outputs": [
    {
     "name": "stdout",
     "output_type": "stream",
     "text": [
      "                       type         engine\n",
      "0   Fixed wing multi engine      Turbo-fan\n",
      "1   Fixed wing multi engine      Turbo-jet\n",
      "2  Fixed wing single engine  Reciprocating\n",
      "3   Fixed wing multi engine  Reciprocating\n",
      "4  Fixed wing single engine        4 Cycle\n",
      "5                Rotorcraft    Turbo-shaft\n",
      "6   Fixed wing multi engine     Turbo-prop\n"
     ]
    }
   ],
   "source": [
    "task2_s =pd.read_sql_query(\"\"\"\n",
    "   SELECT DISTINCT type, engine FROM planes\n",
    "\"\"\", conn)\n",
    "print(task2_s)"
   ]
  },
  {
   "cell_type": "code",
   "execution_count": 35,
   "id": "37c8bbd5",
   "metadata": {},
   "outputs": [
    {
     "name": "stdout",
     "output_type": "stream",
     "text": [
      "                       type         engine\n",
      "0   Fixed wing multi engine      Turbo-fan\n",
      "1   Fixed wing multi engine      Turbo-jet\n",
      "2  Fixed wing single engine  Reciprocating\n",
      "3   Fixed wing multi engine  Reciprocating\n",
      "4  Fixed wing single engine        4 Cycle\n",
      "5                Rotorcraft    Turbo-shaft\n",
      "6   Fixed wing multi engine     Turbo-prop\n"
     ]
    }
   ],
   "source": [
    "task2_pd = planes[['type', 'engine']].drop_duplicates().reset_index(drop = True)\n",
    "print(task2_pd)"
   ]
  },
  {
   "cell_type": "markdown",
   "id": "f636bd05",
   "metadata": {},
   "source": [
    "#### Compare the result set of pandas and database\n",
    "On printing both from sql and pandas, we can see values match exactly.\n",
    "\n",
    "We can see there are 6 different type and engine in the dataset. \n",
    "And two types of Reciprocating engine in the dataset- Fixed wing single engine and fixed wing multiple engine.  \n",
    "\n",
    "Below command will print for any variance between sql and pandas statements. "
   ]
  },
  {
   "cell_type": "code",
   "execution_count": 39,
   "id": "9dde9c13",
   "metadata": {},
   "outputs": [
    {
     "name": "stdout",
     "output_type": "stream",
     "text": [
      "Errors for 2nd Task(if any): None\n"
     ]
    }
   ],
   "source": [
    "print(\"Errors for 2nd Task(if any):\", pd.testing.assert_frame_equal(task2_s,task2_pd))"
   ]
  },
  {
   "cell_type": "markdown",
   "id": "f2babb09",
   "metadata": {},
   "source": [
    "#### 3rd Task\n",
    "Lets now check count of differnt types of engines from the dataset planes. "
   ]
  },
  {
   "cell_type": "code",
   "execution_count": 53,
   "id": "e6caaf80",
   "metadata": {
    "lines_to_next_cell": 0
   },
   "outputs": [
    {
     "name": "stdout",
     "output_type": "stream",
     "text": [
      "   COUNT(*)         engine\n",
      "0         2        4 Cycle\n",
      "1        28  Reciprocating\n",
      "2      2750      Turbo-fan\n",
      "3       535      Turbo-jet\n",
      "4         2     Turbo-prop\n",
      "5         5    Turbo-shaft\n"
     ]
    }
   ],
   "source": [
    "task3_s =pd.read_sql_query(\"\"\"\n",
    "   SELECT COUNT(*), engine FROM planes GROUP BY engine\n",
    "\"\"\", conn)\n",
    "print(task3_s)"
   ]
  },
  {
   "cell_type": "code",
   "execution_count": 55,
   "id": "4a3fcc9e",
   "metadata": {
    "lines_to_next_cell": 2
   },
   "outputs": [
    {
     "name": "stdout",
     "output_type": "stream",
     "text": [
      "   COUNT(*)         engine\n",
      "0         2        4 Cycle\n",
      "1        28  Reciprocating\n",
      "2      2750      Turbo-fan\n",
      "3       535      Turbo-jet\n",
      "4         2     Turbo-prop\n",
      "5         5    Turbo-shaft\n"
     ]
    }
   ],
   "source": [
    "task3_pd = planes.groupby('engine').size().reset_index(name='COUNT(*)')\n",
    "task3_pd = task3_pd[[\"COUNT(*)\",\"engine\" ]]\n",
    "print(task3_pd)"
   ]
  },
  {
   "cell_type": "markdown",
   "id": "8025e28f",
   "metadata": {},
   "source": [
    "#### Compare the result set of pandas and database\n",
    "On printing both from sql and pandas, we can see values match exactly.\n",
    "\n",
    "We can see there are 5 different types of engine in the dataset. \n",
    "with most of the type being Turbo Fan type of Engine. Almost 5 times compared to sum total of other types. \n",
    "\n",
    "Below command will print for any variance between sql and pandas statements. "
   ]
  },
  {
   "cell_type": "code",
   "execution_count": 58,
   "id": "bc3c24cf",
   "metadata": {},
   "outputs": [
    {
     "name": "stdout",
     "output_type": "stream",
     "text": [
      "Errors for 3rd Task(if any): None\n"
     ]
    }
   ],
   "source": [
    "print(\"Errors for 3rd Task(if any):\", pd.testing.assert_frame_equal(task3_s,task3_pd))"
   ]
  },
  {
   "cell_type": "markdown",
   "id": "5f0f2c98",
   "metadata": {},
   "source": [
    "#### 4th Task\n",
    "Lets now check count of engine and different types in plane database. "
   ]
  },
  {
   "cell_type": "code",
   "execution_count": 61,
   "id": "52d9a0c1",
   "metadata": {
    "lines_to_next_cell": 0
   },
   "outputs": [
    {
     "name": "stdout",
     "output_type": "stream",
     "text": [
      "   COUNT(*)         engine                      type\n",
      "0         2        4 Cycle  Fixed wing single engine\n",
      "1         5  Reciprocating   Fixed wing multi engine\n",
      "2        23  Reciprocating  Fixed wing single engine\n",
      "3      2750      Turbo-fan   Fixed wing multi engine\n",
      "4       535      Turbo-jet   Fixed wing multi engine\n",
      "5         2     Turbo-prop   Fixed wing multi engine\n",
      "6         5    Turbo-shaft                Rotorcraft\n"
     ]
    }
   ],
   "source": [
    "task4_s =pd.read_sql_query(\"\"\"\n",
    "   SELECT COUNT(*), engine, type FROM planes GROUP BY engine, type\n",
    "\"\"\", conn)\n",
    "print(task4_s)"
   ]
  },
  {
   "cell_type": "code",
   "execution_count": 63,
   "id": "8ab6d57d",
   "metadata": {},
   "outputs": [
    {
     "name": "stdout",
     "output_type": "stream",
     "text": [
      "   COUNT(*)         engine                      type\n",
      "0         2        4 Cycle  Fixed wing single engine\n",
      "1         5  Reciprocating   Fixed wing multi engine\n",
      "2        23  Reciprocating  Fixed wing single engine\n",
      "3      2750      Turbo-fan   Fixed wing multi engine\n",
      "4       535      Turbo-jet   Fixed wing multi engine\n",
      "5         2     Turbo-prop   Fixed wing multi engine\n",
      "6         5    Turbo-shaft                Rotorcraft\n"
     ]
    }
   ],
   "source": [
    "task4_pd = planes.groupby(['engine', 'type']).size().reset_index(name='COUNT(*)')\n",
    "task4_pd = task4_pd[[\"COUNT(*)\",\"engine\",\"type\" ]]\n",
    "print(task4_pd)"
   ]
  },
  {
   "cell_type": "markdown",
   "id": "16b69ac1",
   "metadata": {},
   "source": [
    "#### Compare the result set of pandas and database\n",
    "On printing both from sql and pandas, we can see values match exactly.\n",
    "\n",
    "We can see there are 6 different type and engine in the dataset, as we saw before.  \n",
    "And two types of Reciprocating engine in the dataset- Fixed wing single engine are more compared to fixed wing multiple engine.  \n",
    "\n",
    "Below command will print for any variance between sql and pandas statements. "
   ]
  },
  {
   "cell_type": "code",
   "execution_count": 66,
   "id": "46b803a4",
   "metadata": {},
   "outputs": [
    {
     "name": "stdout",
     "output_type": "stream",
     "text": [
      "Errors for 4th Task(if any): None\n"
     ]
    }
   ],
   "source": [
    "print(\"Errors for 4th Task(if any):\", pd.testing.assert_frame_equal(task4_s,task4_pd))"
   ]
  },
  {
   "cell_type": "markdown",
   "id": "bbaece9a",
   "metadata": {},
   "source": [
    "#### 5th Task\n",
    "Lets now check minimum, maximum and average of the year the engines were manufactured along with different manufactures we have"
   ]
  },
  {
   "cell_type": "code",
   "execution_count": 73,
   "id": "f61dd1fd",
   "metadata": {
    "lines_to_next_cell": 0
   },
   "outputs": [
    {
     "name": "stdout",
     "output_type": "stream",
     "text": [
      "    MIN(year)    AVG(year)  MAX(year)         engine  \\\n",
      "0      1975.0  1975.000000     1975.0        4 Cycle   \n",
      "1         NaN          NaN        NaN        4 Cycle   \n",
      "2         NaN          NaN        NaN  Reciprocating   \n",
      "3      2007.0  2007.000000     2007.0  Reciprocating   \n",
      "4         NaN          NaN        NaN  Reciprocating   \n",
      "5      1959.0  1971.142857     1983.0  Reciprocating   \n",
      "6      2007.0  2007.000000     2007.0  Reciprocating   \n",
      "7      1959.0  1959.000000     1959.0  Reciprocating   \n",
      "8      1956.0  1956.000000     1956.0  Reciprocating   \n",
      "9      2007.0  2007.000000     2007.0  Reciprocating   \n",
      "10        NaN          NaN        NaN  Reciprocating   \n",
      "11     1985.0  1985.000000     1985.0  Reciprocating   \n",
      "12        NaN          NaN        NaN  Reciprocating   \n",
      "13     1985.0  1985.000000     1985.0  Reciprocating   \n",
      "14     1993.0  1993.000000     1993.0  Reciprocating   \n",
      "15        NaN          NaN        NaN  Reciprocating   \n",
      "16     1968.0  1976.400000     1980.0  Reciprocating   \n",
      "17     1985.0  1985.000000     1985.0  Reciprocating   \n",
      "18     2002.0  2007.281734     2013.0      Turbo-fan   \n",
      "19     1992.0  1998.599251     2013.0      Turbo-fan   \n",
      "20     1986.0  1986.000000     1986.0      Turbo-fan   \n",
      "21     1965.0  2001.210400     2013.0      Turbo-fan   \n",
      "22     1998.0  2004.486188     2013.0      Turbo-fan   \n",
      "23     1997.0  1997.333333     1998.0      Turbo-fan   \n",
      "24     1979.0  1979.000000     1979.0      Turbo-fan   \n",
      "25     1998.0  2003.613014     2013.0      Turbo-fan   \n",
      "26     1992.0  1992.000000     1992.0      Turbo-fan   \n",
      "27        NaN          NaN        NaN      Turbo-fan   \n",
      "28     1986.0  1989.704545     1997.0      Turbo-fan   \n",
      "29     1987.0  1989.737864     1993.0      Turbo-fan   \n",
      "30     2002.0  2002.000000     2002.0      Turbo-jet   \n",
      "31     1989.0  1997.439024     2004.0      Turbo-jet   \n",
      "32     1984.0  1996.368272     2005.0      Turbo-jet   \n",
      "33     1974.0  1974.000000     1974.0      Turbo-jet   \n",
      "34     1999.0  1999.000000     1999.0      Turbo-jet   \n",
      "35     1976.0  1976.000000     1976.0      Turbo-jet   \n",
      "36     1975.0  1990.714286     1998.0      Turbo-jet   \n",
      "37     1991.0  1991.928571     1992.0      Turbo-jet   \n",
      "38     1967.0  1969.500000     1972.0     Turbo-prop   \n",
      "39     2001.0  2001.000000     2001.0    Turbo-shaft   \n",
      "40     1975.0  1984.500000     1994.0    Turbo-shaft   \n",
      "41     2012.0  2012.000000     2012.0    Turbo-shaft   \n",
      "42     1985.0  1985.000000     1985.0    Turbo-shaft   \n",
      "\n",
      "                     manufacturer  \n",
      "0                          CESSNA  \n",
      "1                     JOHN G HESS  \n",
      "2           AMERICAN AIRCRAFT INC  \n",
      "3              AVIAT AIRCRAFT INC  \n",
      "4                   BARKER JACK L  \n",
      "5                          CESSNA  \n",
      "6              CIRRUS DESIGN CORP  \n",
      "7                     DEHAVILLAND  \n",
      "8                         DOUGLAS  \n",
      "9                  FRIEDEMANN JON  \n",
      "10             HURLEY JAMES LARRY  \n",
      "11                   KILDALL GARY  \n",
      "12                LAMBERT RICHARD  \n",
      "13                LEBLANC GLENN T  \n",
      "14                     MARZ BARRY  \n",
      "15                    PAIR MIKE E  \n",
      "16                          PIPER  \n",
      "17                   STEWART MACO  \n",
      "18                         AIRBUS  \n",
      "19               AIRBUS INDUSTRIE  \n",
      "20         AVIONS MARCEL DASSAULT  \n",
      "21                         BOEING  \n",
      "22                 BOMBARDIER INC  \n",
      "23                       CANADAIR  \n",
      "24                         CESSNA  \n",
      "25                        EMBRAER  \n",
      "26           GULFSTREAM AEROSPACE  \n",
      "27                    LEARJET INC  \n",
      "28              MCDONNELL DOUGLAS  \n",
      "29  MCDONNELL DOUGLAS AIRCRAFT CO  \n",
      "30                         AIRBUS  \n",
      "31               AIRBUS INDUSTRIE  \n",
      "32                         BOEING  \n",
      "33                   CANADAIR LTD  \n",
      "34                        EMBRAER  \n",
      "35           GULFSTREAM AEROSPACE  \n",
      "36              MCDONNELL DOUGLAS  \n",
      "37  MCDONNELL DOUGLAS CORPORATION  \n",
      "38                          BEECH  \n",
      "39                     AGUSTA SPA  \n",
      "40                           BELL  \n",
      "41         ROBINSON HELICOPTER CO  \n",
      "42                       SIKORSKY  \n"
     ]
    }
   ],
   "source": [
    "task5_s =pd.read_sql_query(\"\"\"\n",
    "   SELECT MIN(year), AVG(year), MAX(year), engine, manufacturer\n",
    "   FROM planes\n",
    "   GROUP BY engine, manufacturer\n",
    "\"\"\", conn)\n",
    "print(task5_s)"
   ]
  },
  {
   "cell_type": "code",
   "execution_count": 83,
   "id": "8e845240",
   "metadata": {},
   "outputs": [
    {
     "name": "stdout",
     "output_type": "stream",
     "text": [
      "    MIN(year)    AVG(year)  MAX(year)         engine  \\\n",
      "0      1975.0  1975.000000     1975.0        4 Cycle   \n",
      "1         NaN          NaN        NaN        4 Cycle   \n",
      "2         NaN          NaN        NaN  Reciprocating   \n",
      "3      2007.0  2007.000000     2007.0  Reciprocating   \n",
      "4         NaN          NaN        NaN  Reciprocating   \n",
      "5      1959.0  1971.142857     1983.0  Reciprocating   \n",
      "6      2007.0  2007.000000     2007.0  Reciprocating   \n",
      "7      1959.0  1959.000000     1959.0  Reciprocating   \n",
      "8      1956.0  1956.000000     1956.0  Reciprocating   \n",
      "9      2007.0  2007.000000     2007.0  Reciprocating   \n",
      "10        NaN          NaN        NaN  Reciprocating   \n",
      "11     1985.0  1985.000000     1985.0  Reciprocating   \n",
      "12        NaN          NaN        NaN  Reciprocating   \n",
      "13     1985.0  1985.000000     1985.0  Reciprocating   \n",
      "14     1993.0  1993.000000     1993.0  Reciprocating   \n",
      "15        NaN          NaN        NaN  Reciprocating   \n",
      "16     1968.0  1976.400000     1980.0  Reciprocating   \n",
      "17     1985.0  1985.000000     1985.0  Reciprocating   \n",
      "18     2002.0  2007.281734     2013.0      Turbo-fan   \n",
      "19     1992.0  1998.599251     2013.0      Turbo-fan   \n",
      "20     1986.0  1986.000000     1986.0      Turbo-fan   \n",
      "21     1965.0  2001.210400     2013.0      Turbo-fan   \n",
      "22     1998.0  2004.486188     2013.0      Turbo-fan   \n",
      "23     1997.0  1997.333333     1998.0      Turbo-fan   \n",
      "24     1979.0  1979.000000     1979.0      Turbo-fan   \n",
      "25     1998.0  2003.613014     2013.0      Turbo-fan   \n",
      "26     1992.0  1992.000000     1992.0      Turbo-fan   \n",
      "27        NaN          NaN        NaN      Turbo-fan   \n",
      "28     1986.0  1989.704545     1997.0      Turbo-fan   \n",
      "29     1987.0  1989.737864     1993.0      Turbo-fan   \n",
      "30     2002.0  2002.000000     2002.0      Turbo-jet   \n",
      "31     1989.0  1997.439024     2004.0      Turbo-jet   \n",
      "32     1984.0  1996.368272     2005.0      Turbo-jet   \n",
      "33     1974.0  1974.000000     1974.0      Turbo-jet   \n",
      "34     1999.0  1999.000000     1999.0      Turbo-jet   \n",
      "35     1976.0  1976.000000     1976.0      Turbo-jet   \n",
      "36     1975.0  1990.714286     1998.0      Turbo-jet   \n",
      "37     1991.0  1991.928571     1992.0      Turbo-jet   \n",
      "38     1967.0  1969.500000     1972.0     Turbo-prop   \n",
      "39     2001.0  2001.000000     2001.0    Turbo-shaft   \n",
      "40     1975.0  1984.500000     1994.0    Turbo-shaft   \n",
      "41     2012.0  2012.000000     2012.0    Turbo-shaft   \n",
      "42     1985.0  1985.000000     1985.0    Turbo-shaft   \n",
      "\n",
      "                     manufacturer  \n",
      "0                          CESSNA  \n",
      "1                     JOHN G HESS  \n",
      "2           AMERICAN AIRCRAFT INC  \n",
      "3              AVIAT AIRCRAFT INC  \n",
      "4                   BARKER JACK L  \n",
      "5                          CESSNA  \n",
      "6              CIRRUS DESIGN CORP  \n",
      "7                     DEHAVILLAND  \n",
      "8                         DOUGLAS  \n",
      "9                  FRIEDEMANN JON  \n",
      "10             HURLEY JAMES LARRY  \n",
      "11                   KILDALL GARY  \n",
      "12                LAMBERT RICHARD  \n",
      "13                LEBLANC GLENN T  \n",
      "14                     MARZ BARRY  \n",
      "15                    PAIR MIKE E  \n",
      "16                          PIPER  \n",
      "17                   STEWART MACO  \n",
      "18                         AIRBUS  \n",
      "19               AIRBUS INDUSTRIE  \n",
      "20         AVIONS MARCEL DASSAULT  \n",
      "21                         BOEING  \n",
      "22                 BOMBARDIER INC  \n",
      "23                       CANADAIR  \n",
      "24                         CESSNA  \n",
      "25                        EMBRAER  \n",
      "26           GULFSTREAM AEROSPACE  \n",
      "27                    LEARJET INC  \n",
      "28              MCDONNELL DOUGLAS  \n",
      "29  MCDONNELL DOUGLAS AIRCRAFT CO  \n",
      "30                         AIRBUS  \n",
      "31               AIRBUS INDUSTRIE  \n",
      "32                         BOEING  \n",
      "33                   CANADAIR LTD  \n",
      "34                        EMBRAER  \n",
      "35           GULFSTREAM AEROSPACE  \n",
      "36              MCDONNELL DOUGLAS  \n",
      "37  MCDONNELL DOUGLAS CORPORATION  \n",
      "38                          BEECH  \n",
      "39                     AGUSTA SPA  \n",
      "40                           BELL  \n",
      "41         ROBINSON HELICOPTER CO  \n",
      "42                       SIKORSKY  \n"
     ]
    },
    {
     "name": "stderr",
     "output_type": "stream",
     "text": [
      "C:\\Users\\TARUN KUMAR SARKAR\\AppData\\Local\\Temp\\ipykernel_14756\\2344041619.py:1: FutureWarning: The provided callable <function min at 0x000001FF60B7CAE0> is currently using SeriesGroupBy.min. In a future version of pandas, the provided callable will be used directly. To keep current behavior pass the string \"min\" instead.\n",
      "  task5_pd = planes[[\"engine\",\"manufacturer\",\"year\"]].groupby([\"engine\",\"manufacturer\"])[\"year\"].agg([np.min,np.mean,np.max])\\\n",
      "C:\\Users\\TARUN KUMAR SARKAR\\AppData\\Local\\Temp\\ipykernel_14756\\2344041619.py:1: FutureWarning: The provided callable <function mean at 0x000001FF60B7D3A0> is currently using SeriesGroupBy.mean. In a future version of pandas, the provided callable will be used directly. To keep current behavior pass the string \"mean\" instead.\n",
      "  task5_pd = planes[[\"engine\",\"manufacturer\",\"year\"]].groupby([\"engine\",\"manufacturer\"])[\"year\"].agg([np.min,np.mean,np.max])\\\n",
      "C:\\Users\\TARUN KUMAR SARKAR\\AppData\\Local\\Temp\\ipykernel_14756\\2344041619.py:1: FutureWarning: The provided callable <function max at 0x000001FF60B7C9A0> is currently using SeriesGroupBy.max. In a future version of pandas, the provided callable will be used directly. To keep current behavior pass the string \"max\" instead.\n",
      "  task5_pd = planes[[\"engine\",\"manufacturer\",\"year\"]].groupby([\"engine\",\"manufacturer\"])[\"year\"].agg([np.min,np.mean,np.max])\\\n"
     ]
    }
   ],
   "source": [
    "task5_pd = planes[[\"engine\",\"manufacturer\",\"year\"]].groupby([\"engine\",\"manufacturer\"])[\"year\"].agg([np.min,np.mean,np.max])\\\n",
    "          .sort_values([\"engine\",\"manufacturer\"],ascending = [True,True])\\\n",
    "          .reset_index()\n",
    "task5_pd = task5_pd[[\"min\",\"mean\",\"max\", \"engine\", \"manufacturer\"]]\n",
    "task5_pd.columns=[\"MIN(year)\",  \"AVG(year)\", \"MAX(year)\",  \"engine\", \"manufacturer\"]\n",
    "print(task5_pd)"
   ]
  },
  {
   "cell_type": "markdown",
   "id": "0c2da655",
   "metadata": {},
   "source": [
    "#### Compare the result set of pandas and database\n",
    "On printing both from sql and pandas, we can see values match exactly.\n",
    "\n",
    "We can see for few manufacturers, the year of manufacture is not present for which we are getting error as NaN. Oldest manufacturer is of 1967 with manufatcurer as Beech.\n",
    "\n",
    "Below command will print for any variance between sql and pandas statements. "
   ]
  },
  {
   "cell_type": "code",
   "execution_count": 85,
   "id": "6c8089db",
   "metadata": {},
   "outputs": [
    {
     "name": "stdout",
     "output_type": "stream",
     "text": [
      "Errors for 5th Task(if any): None\n"
     ]
    }
   ],
   "source": [
    "print(\"Errors for 5th Task(if any):\", pd.testing.assert_frame_equal(task5_s,task5_pd))"
   ]
  },
  {
   "cell_type": "markdown",
   "id": "daa8eb2f",
   "metadata": {},
   "source": [
    "#### 6th Task\n",
    "Lets now pull the data from planes where speed is present in the dataset. we will not pull records where speed is not present. "
   ]
  },
  {
   "cell_type": "code",
   "execution_count": 89,
   "id": "49564254",
   "metadata": {
    "lines_to_next_cell": 0
   },
   "outputs": [
    {
     "name": "stdout",
     "output_type": "stream",
     "text": [
      "   tailnum    year                      type       manufacturer        model  \\\n",
      "0   N201AA  1959.0  Fixed wing single engine             CESSNA          150   \n",
      "1   N202AA  1980.0   Fixed wing multi engine             CESSNA         421C   \n",
      "2   N350AA  1980.0   Fixed wing multi engine              PIPER    PA-31-350   \n",
      "3   N364AA  1973.0   Fixed wing multi engine             CESSNA         310Q   \n",
      "4   N378AA  1963.0  Fixed wing single engine             CESSNA         172E   \n",
      "5   N381AA  1956.0   Fixed wing multi engine            DOUGLAS       DC-7BF   \n",
      "6   N425AA  1968.0  Fixed wing single engine              PIPER    PA-28-180   \n",
      "7   N508AA  1975.0                Rotorcraft               BELL         206B   \n",
      "8   N519MQ  1983.0  Fixed wing single engine             CESSNA        A185F   \n",
      "9   N525AA  1980.0   Fixed wing multi engine              PIPER    PA-31-350   \n",
      "10  N545AA  1976.0  Fixed wing single engine              PIPER   PA-32R-300   \n",
      "11  N567AA  1959.0  Fixed wing single engine        DEHAVILLAND  OTTER DHC-3   \n",
      "12  N600TR  1979.0   Fixed wing multi engine  MCDONNELL DOUGLAS      DC-9-51   \n",
      "13  N615AA  1967.0   Fixed wing multi engine              BEECH       65-A90   \n",
      "14  N621AA  1975.0  Fixed wing single engine             CESSNA         172M   \n",
      "15  N675MC  1975.0   Fixed wing multi engine  MCDONNELL DOUGLAS      DC-9-51   \n",
      "16  N737MQ  1977.0  Fixed wing single engine             CESSNA         172N   \n",
      "17  N762NC  1976.0   Fixed wing multi engine  MCDONNELL DOUGLAS      DC-9-51   \n",
      "18  N767NC  1977.0   Fixed wing multi engine  MCDONNELL DOUGLAS      DC-9-51   \n",
      "19  N774NC  1978.0   Fixed wing multi engine  MCDONNELL DOUGLAS      DC-9-51   \n",
      "20  N777NC  1979.0   Fixed wing multi engine  MCDONNELL DOUGLAS      DC-9-51   \n",
      "21  N779NC  1979.0   Fixed wing multi engine  MCDONNELL DOUGLAS      DC-9-51   \n",
      "22  N782NC  1980.0   Fixed wing multi engine  MCDONNELL DOUGLAS      DC-9-51   \n",
      "\n",
      "    engines  seats  speed         engine  \n",
      "0         1      2   90.0  Reciprocating  \n",
      "1         2      8   90.0  Reciprocating  \n",
      "2         2      8  162.0  Reciprocating  \n",
      "3         2      6  167.0  Reciprocating  \n",
      "4         1      4  105.0  Reciprocating  \n",
      "5         4    102  232.0  Reciprocating  \n",
      "6         1      4  107.0  Reciprocating  \n",
      "7         1      5  112.0    Turbo-shaft  \n",
      "8         1      6  127.0  Reciprocating  \n",
      "9         2      8  162.0  Reciprocating  \n",
      "10        1      7  126.0  Reciprocating  \n",
      "11        1     16   95.0  Reciprocating  \n",
      "12        2    139  432.0      Turbo-jet  \n",
      "13        2      9  202.0     Turbo-prop  \n",
      "14        1      4  108.0        4 Cycle  \n",
      "15        2    139  432.0      Turbo-jet  \n",
      "16        1      4  105.0  Reciprocating  \n",
      "17        2    139  432.0      Turbo-jet  \n",
      "18        2    139  432.0      Turbo-jet  \n",
      "19        2    139  432.0      Turbo-jet  \n",
      "20        2    139  432.0      Turbo-jet  \n",
      "21        2    139  432.0      Turbo-jet  \n",
      "22        2    139  432.0      Turbo-jet  \n"
     ]
    }
   ],
   "source": [
    "task6_s =pd.read_sql_query(\"\"\"\n",
    "   SELECT * FROM planes WHERE speed IS NOT NULL\n",
    "\"\"\", conn)\n",
    "print(task6_s)"
   ]
  },
  {
   "cell_type": "code",
   "execution_count": 91,
   "id": "d4873c3c",
   "metadata": {
    "lines_to_next_cell": 2
   },
   "outputs": [
    {
     "name": "stdout",
     "output_type": "stream",
     "text": [
      "   tailnum    year                      type       manufacturer        model  \\\n",
      "0   N201AA  1959.0  Fixed wing single engine             CESSNA          150   \n",
      "1   N202AA  1980.0   Fixed wing multi engine             CESSNA         421C   \n",
      "2   N350AA  1980.0   Fixed wing multi engine              PIPER    PA-31-350   \n",
      "3   N364AA  1973.0   Fixed wing multi engine             CESSNA         310Q   \n",
      "4   N378AA  1963.0  Fixed wing single engine             CESSNA         172E   \n",
      "5   N381AA  1956.0   Fixed wing multi engine            DOUGLAS       DC-7BF   \n",
      "6   N425AA  1968.0  Fixed wing single engine              PIPER    PA-28-180   \n",
      "7   N508AA  1975.0                Rotorcraft               BELL         206B   \n",
      "8   N519MQ  1983.0  Fixed wing single engine             CESSNA        A185F   \n",
      "9   N525AA  1980.0   Fixed wing multi engine              PIPER    PA-31-350   \n",
      "10  N545AA  1976.0  Fixed wing single engine              PIPER   PA-32R-300   \n",
      "11  N567AA  1959.0  Fixed wing single engine        DEHAVILLAND  OTTER DHC-3   \n",
      "12  N600TR  1979.0   Fixed wing multi engine  MCDONNELL DOUGLAS      DC-9-51   \n",
      "13  N615AA  1967.0   Fixed wing multi engine              BEECH       65-A90   \n",
      "14  N621AA  1975.0  Fixed wing single engine             CESSNA         172M   \n",
      "15  N675MC  1975.0   Fixed wing multi engine  MCDONNELL DOUGLAS      DC-9-51   \n",
      "16  N737MQ  1977.0  Fixed wing single engine             CESSNA         172N   \n",
      "17  N762NC  1976.0   Fixed wing multi engine  MCDONNELL DOUGLAS      DC-9-51   \n",
      "18  N767NC  1977.0   Fixed wing multi engine  MCDONNELL DOUGLAS      DC-9-51   \n",
      "19  N774NC  1978.0   Fixed wing multi engine  MCDONNELL DOUGLAS      DC-9-51   \n",
      "20  N777NC  1979.0   Fixed wing multi engine  MCDONNELL DOUGLAS      DC-9-51   \n",
      "21  N779NC  1979.0   Fixed wing multi engine  MCDONNELL DOUGLAS      DC-9-51   \n",
      "22  N782NC  1980.0   Fixed wing multi engine  MCDONNELL DOUGLAS      DC-9-51   \n",
      "\n",
      "    engines  seats  speed         engine  \n",
      "0         1      2   90.0  Reciprocating  \n",
      "1         2      8   90.0  Reciprocating  \n",
      "2         2      8  162.0  Reciprocating  \n",
      "3         2      6  167.0  Reciprocating  \n",
      "4         1      4  105.0  Reciprocating  \n",
      "5         4    102  232.0  Reciprocating  \n",
      "6         1      4  107.0  Reciprocating  \n",
      "7         1      5  112.0    Turbo-shaft  \n",
      "8         1      6  127.0  Reciprocating  \n",
      "9         2      8  162.0  Reciprocating  \n",
      "10        1      7  126.0  Reciprocating  \n",
      "11        1     16   95.0  Reciprocating  \n",
      "12        2    139  432.0      Turbo-jet  \n",
      "13        2      9  202.0     Turbo-prop  \n",
      "14        1      4  108.0        4 Cycle  \n",
      "15        2    139  432.0      Turbo-jet  \n",
      "16        1      4  105.0  Reciprocating  \n",
      "17        2    139  432.0      Turbo-jet  \n",
      "18        2    139  432.0      Turbo-jet  \n",
      "19        2    139  432.0      Turbo-jet  \n",
      "20        2    139  432.0      Turbo-jet  \n",
      "21        2    139  432.0      Turbo-jet  \n",
      "22        2    139  432.0      Turbo-jet  \n"
     ]
    }
   ],
   "source": [
    "task6_pd = planes.loc[(~planes.speed.isna())].reset_index(drop = True)\n",
    "print(task6_pd)"
   ]
  },
  {
   "cell_type": "markdown",
   "id": "6f4896e1",
   "metadata": {},
   "source": [
    "#### Compare the result set of pandas and database\n",
    "On printing both from sql and pandas, we can see values match exactly.\n",
    "\n",
    "We can see there are 22 different records for which speed is present and printed. \n",
    "\n",
    "Below command will print for any variance between sql and pandas statements. "
   ]
  },
  {
   "cell_type": "code",
   "execution_count": 94,
   "id": "91d9956c",
   "metadata": {},
   "outputs": [
    {
     "name": "stdout",
     "output_type": "stream",
     "text": [
      "Errors for 6th Task(if any): None\n"
     ]
    }
   ],
   "source": [
    "print(\"Errors for 6th Task(if any):\", pd.testing.assert_frame_equal(task6_s,task6_pd))"
   ]
  },
  {
   "cell_type": "markdown",
   "id": "7ed32e2d",
   "metadata": {},
   "source": [
    "#### 7th Task\n",
    "Lets now print the tail number for all the records for which the seats are between 150 and 210 and year is greater than 2011"
   ]
  },
  {
   "cell_type": "code",
   "execution_count": 96,
   "id": "7e0e268d",
   "metadata": {
    "lines_to_next_cell": 0
   },
   "outputs": [
    {
     "name": "stdout",
     "output_type": "stream",
     "text": [
      "   tailnum\n",
      "0   N150UW\n",
      "1   N151UW\n",
      "2   N152UW\n",
      "3   N153UW\n",
      "4   N154UW\n",
      "..     ...\n",
      "87  N851VA\n",
      "88  N852VA\n",
      "89  N853VA\n",
      "90  N854VA\n",
      "91  N855VA\n",
      "\n",
      "[92 rows x 1 columns]\n"
     ]
    }
   ],
   "source": [
    "task7_s =pd.read_sql_query(\"\"\"\n",
    "   SELECT tailnum FROM planes\n",
    "WHERE seats BETWEEN 150 AND 210 AND year >= 2011\n",
    "\"\"\", conn)\n",
    "print(task7_s)"
   ]
  },
  {
   "cell_type": "code",
   "execution_count": 99,
   "id": "d04d34c9",
   "metadata": {
    "lines_to_next_cell": 2
   },
   "outputs": [
    {
     "name": "stdout",
     "output_type": "stream",
     "text": [
      "   tailnum\n",
      "0   N150UW\n",
      "1   N151UW\n",
      "2   N152UW\n",
      "3   N153UW\n",
      "4   N154UW\n",
      "..     ...\n",
      "87  N851VA\n",
      "88  N852VA\n",
      "89  N853VA\n",
      "90  N854VA\n",
      "91  N855VA\n",
      "\n",
      "[92 rows x 1 columns]\n"
     ]
    }
   ],
   "source": [
    "task7_pd = planes.loc[(planes.seats >=150) & (planes.seats < 211) & (planes.year >=2011),[\"tailnum\"]].reset_index(drop = True)\n",
    "print(task7_pd)"
   ]
  },
  {
   "cell_type": "markdown",
   "id": "a482edc1",
   "metadata": {},
   "source": [
    "#### Compare the result set of pandas and database\n",
    "On printing both from sql and pandas, we can see values match exactly.\n",
    "\n",
    "We have printed 92 different names of tail numbers as present in the dataset planes. \n",
    "\n",
    "Below command will print for any variance between sql and pandas statements. "
   ]
  },
  {
   "cell_type": "code",
   "execution_count": 102,
   "id": "f6c9200e",
   "metadata": {},
   "outputs": [
    {
     "name": "stdout",
     "output_type": "stream",
     "text": [
      "Errors for 7th Task(if any): None\n"
     ]
    }
   ],
   "source": [
    "print(\"Errors for 7th Task(if any):\", pd.testing.assert_frame_equal(task7_s,task7_pd))"
   ]
  },
  {
   "cell_type": "markdown",
   "id": "95fe3560",
   "metadata": {},
   "source": [
    "#### 8th Task\n",
    "Lets now check the tail numbers, manufacturer ad seats from the same dataset planes where manufacturer are BOEING or AIRBUS or EMBRAER and seats are more than 390"
   ]
  },
  {
   "cell_type": "code",
   "execution_count": 105,
   "id": "83936fb6",
   "metadata": {
    "lines_to_next_cell": 0
   },
   "outputs": [
    {
     "name": "stdout",
     "output_type": "stream",
     "text": [
      "   tailnum manufacturer  seats\n",
      "0   N206UA       BOEING    400\n",
      "1   N228UA       BOEING    400\n",
      "2   N272AT       BOEING    400\n",
      "3   N57016       BOEING    400\n",
      "4   N670US       BOEING    450\n",
      "5   N77012       BOEING    400\n",
      "6   N777UA       BOEING    400\n",
      "7   N78003       BOEING    400\n",
      "8   N78013       BOEING    400\n",
      "9   N787UA       BOEING    400\n",
      "10  N862DA       BOEING    400\n",
      "11  N863DA       BOEING    400\n",
      "12  N865DA       BOEING    400\n"
     ]
    }
   ],
   "source": [
    "task8_s =pd.read_sql_query(\"\"\"\n",
    "   SELECT tailnum, manufacturer, seats FROM planes\n",
    "WHERE manufacturer IN (\"BOEING\", \"AIRBUS\", \"EMBRAER\") AND seats>390\n",
    "\"\"\", conn)\n",
    "print(task8_s)"
   ]
  },
  {
   "cell_type": "code",
   "execution_count": 107,
   "id": "04849fff",
   "metadata": {
    "lines_to_next_cell": 2
   },
   "outputs": [
    {
     "name": "stdout",
     "output_type": "stream",
     "text": [
      "   tailnum manufacturer  seats\n",
      "0   N206UA       BOEING    400\n",
      "1   N228UA       BOEING    400\n",
      "2   N272AT       BOEING    400\n",
      "3   N57016       BOEING    400\n",
      "4   N670US       BOEING    450\n",
      "5   N77012       BOEING    400\n",
      "6   N777UA       BOEING    400\n",
      "7   N78003       BOEING    400\n",
      "8   N78013       BOEING    400\n",
      "9   N787UA       BOEING    400\n",
      "10  N862DA       BOEING    400\n",
      "11  N863DA       BOEING    400\n",
      "12  N865DA       BOEING    400\n"
     ]
    }
   ],
   "source": [
    "task8_pd = planes.loc[(planes.manufacturer.isin(['BOEING', 'AIRBUS', 'EMBRAER'])) & (planes.seats > 390),['tailnum', 'manufacturer','seats']].reset_index(drop = True)\n",
    "print(task8_pd)"
   ]
  },
  {
   "cell_type": "markdown",
   "id": "f4db7f20",
   "metadata": {},
   "source": [
    "#### Compare the result set of pandas and database\n",
    "On printing both from sql and pandas, we can see values match exactly.\n",
    "\n",
    "We can see there are 12 different tail numbers all for manufacturer BOEING amongst AIRBUS and EMBRAER for seats more than 390. \n",
    "\n",
    "Below command will print for any variance between sql and pandas statements. "
   ]
  },
  {
   "cell_type": "code",
   "execution_count": 110,
   "id": "04e2f880",
   "metadata": {},
   "outputs": [
    {
     "name": "stdout",
     "output_type": "stream",
     "text": [
      "Errors for 8th Task(if any): None\n"
     ]
    }
   ],
   "source": [
    "print(\"Errors for 8th Task(if any):\", pd.testing.assert_frame_equal(task8_s,task8_pd))"
   ]
  },
  {
   "cell_type": "markdown",
   "id": "061c07b5",
   "metadata": {},
   "source": [
    "#### 9th Task\n",
    "Lets now print differnt year and seats from the dataset planes where year is more than 2012. "
   ]
  },
  {
   "cell_type": "code",
   "execution_count": 113,
   "id": "3f188693",
   "metadata": {
    "lines_to_next_cell": 0
   },
   "outputs": [
    {
     "name": "stdout",
     "output_type": "stream",
     "text": [
      "      year  seats\n",
      "0   2012.0    379\n",
      "1   2012.0    377\n",
      "2   2012.0    260\n",
      "3   2012.0    222\n",
      "4   2012.0    200\n",
      "5   2012.0    191\n",
      "6   2012.0    182\n",
      "7   2012.0    149\n",
      "8   2012.0    140\n",
      "9   2012.0     20\n",
      "10  2012.0      5\n",
      "11  2013.0    379\n",
      "12  2013.0    377\n",
      "13  2013.0    222\n",
      "14  2013.0    200\n",
      "15  2013.0    199\n",
      "16  2013.0    191\n",
      "17  2013.0    182\n",
      "18  2013.0    140\n",
      "19  2013.0     95\n",
      "20  2013.0     20\n"
     ]
    }
   ],
   "source": [
    "task9_s =pd.read_sql_query(\"\"\"\n",
    "   SELECT DISTINCT year, seats FROM planes\n",
    "WHERE year >= 2012 ORDER BY year ASC, seats DESC\n",
    "\"\"\", conn)\n",
    "print(task9_s)"
   ]
  },
  {
   "cell_type": "code",
   "execution_count": 115,
   "id": "a73dc787",
   "metadata": {
    "lines_to_next_cell": 2
   },
   "outputs": [
    {
     "name": "stdout",
     "output_type": "stream",
     "text": [
      "      year  seats\n",
      "0   2012.0    379\n",
      "1   2012.0    377\n",
      "2   2012.0    260\n",
      "3   2012.0    222\n",
      "4   2012.0    200\n",
      "5   2012.0    191\n",
      "6   2012.0    182\n",
      "7   2012.0    149\n",
      "8   2012.0    140\n",
      "9   2012.0     20\n",
      "10  2012.0      5\n",
      "11  2013.0    379\n",
      "12  2013.0    377\n",
      "13  2013.0    222\n",
      "14  2013.0    200\n",
      "15  2013.0    199\n",
      "16  2013.0    191\n",
      "17  2013.0    182\n",
      "18  2013.0    140\n",
      "19  2013.0     95\n",
      "20  2013.0     20\n"
     ]
    }
   ],
   "source": [
    "task9_pd = planes.loc[(planes.year >= 2012),['year', 'seats']].drop_duplicates().sort_values([\"year\",\"seats\"],ascending = [True,False]).reset_index(drop = True)\n",
    "print(task9_pd)"
   ]
  },
  {
   "cell_type": "markdown",
   "id": "7ddc30cb",
   "metadata": {},
   "source": [
    "#### Compare the result set of pandas and database\n",
    "On printing both from sql and pandas, we can see values match exactly.\n",
    "\n",
    "We can see there are 20 different types of seats and year. with half of them for the year 2012 and rest half in 2013. \n",
    "\n",
    "Below command will print for any variance between sql and pandas statements. "
   ]
  },
  {
   "cell_type": "code",
   "execution_count": 118,
   "id": "94e7abe1",
   "metadata": {},
   "outputs": [
    {
     "name": "stdout",
     "output_type": "stream",
     "text": [
      "Errors for 9th Task(if any): None\n"
     ]
    }
   ],
   "source": [
    "print(\"Errors for 9th Task(if any):\", pd.testing.assert_frame_equal(task9_s,task9_pd))"
   ]
  },
  {
   "cell_type": "markdown",
   "id": "6fa48310",
   "metadata": {},
   "source": [
    "#### 10th Task\n",
    "Lets now print the same requirement but sorted by most number of seats and least from years. "
   ]
  },
  {
   "cell_type": "code",
   "execution_count": 121,
   "id": "f0824984",
   "metadata": {
    "lines_to_next_cell": 0
   },
   "outputs": [
    {
     "name": "stdout",
     "output_type": "stream",
     "text": [
      "      year  seats\n",
      "0   2012.0    379\n",
      "1   2013.0    379\n",
      "2   2012.0    377\n",
      "3   2013.0    377\n",
      "4   2012.0    260\n",
      "5   2012.0    222\n",
      "6   2013.0    222\n",
      "7   2012.0    200\n",
      "8   2013.0    200\n",
      "9   2013.0    199\n",
      "10  2012.0    191\n",
      "11  2013.0    191\n",
      "12  2012.0    182\n",
      "13  2013.0    182\n",
      "14  2012.0    149\n",
      "15  2012.0    140\n",
      "16  2013.0    140\n",
      "17  2013.0     95\n",
      "18  2012.0     20\n",
      "19  2013.0     20\n",
      "20  2012.0      5\n"
     ]
    }
   ],
   "source": [
    "task10_s =pd.read_sql_query(\"\"\"\n",
    "   SELECT DISTINCT year, seats FROM planes\n",
    "WHERE year >= 2012 ORDER BY seats DESC, year ASC\n",
    "\"\"\", conn)\n",
    "print(task10_s)"
   ]
  },
  {
   "cell_type": "code",
   "execution_count": 125,
   "id": "565861e3",
   "metadata": {
    "lines_to_next_cell": 2
   },
   "outputs": [
    {
     "name": "stdout",
     "output_type": "stream",
     "text": [
      "      year  seats\n",
      "0   2012.0    379\n",
      "1   2013.0    379\n",
      "2   2012.0    377\n",
      "3   2013.0    377\n",
      "4   2012.0    260\n",
      "5   2012.0    222\n",
      "6   2013.0    222\n",
      "7   2012.0    200\n",
      "8   2013.0    200\n",
      "9   2013.0    199\n",
      "10  2012.0    191\n",
      "11  2013.0    191\n",
      "12  2012.0    182\n",
      "13  2013.0    182\n",
      "14  2012.0    149\n",
      "15  2012.0    140\n",
      "16  2013.0    140\n",
      "17  2013.0     95\n",
      "18  2012.0     20\n",
      "19  2013.0     20\n",
      "20  2012.0      5\n"
     ]
    }
   ],
   "source": [
    "task10_pd = planes.loc[(planes.year >= 2012),['year', 'seats']].drop_duplicates().sort_values([\"seats\",\"year\"],ascending = [False,True]).reset_index(drop = True)\n",
    "print(task10_pd)"
   ]
  },
  {
   "cell_type": "markdown",
   "id": "9829bed4",
   "metadata": {},
   "source": [
    "#### Compare the result set of pandas and database\n",
    "On printing both from sql and pandas, we can see values match exactly.\n",
    "\n",
    "As we saw there are 20 different types of seats and year. with half of them for the year 2012 and rest half in 2013. \n",
    "Most number of seats of 379 and 377 were manufactured in both 2012 and 2013. \n",
    "But the least number of seats of 5 were only manufactured in the year 2012. \n",
    "\n",
    "Below command will print for any variance between sql and pandas statements. "
   ]
  },
  {
   "cell_type": "code",
   "execution_count": 129,
   "id": "d47a958d",
   "metadata": {},
   "outputs": [
    {
     "name": "stdout",
     "output_type": "stream",
     "text": [
      "Errors for 10th Task(if any): None\n"
     ]
    }
   ],
   "source": [
    "print(\"Errors for 10th Task(if any):\", pd.testing.assert_frame_equal(task10_s,task10_pd))"
   ]
  },
  {
   "cell_type": "markdown",
   "id": "5b4c12b9",
   "metadata": {},
   "source": [
    "#### 11th Task\n",
    "Lets now print the manufactures and count of planes manufatured for seats more than 200. "
   ]
  },
  {
   "cell_type": "code",
   "execution_count": 132,
   "id": "5b9bc693",
   "metadata": {
    "lines_to_next_cell": 0
   },
   "outputs": [
    {
     "name": "stdout",
     "output_type": "stream",
     "text": [
      "       manufacturer  COUNT(*)\n",
      "0            AIRBUS        66\n",
      "1  AIRBUS INDUSTRIE         4\n",
      "2            BOEING       225\n"
     ]
    }
   ],
   "source": [
    "task11_s =pd.read_sql_query(\"\"\"\n",
    "   SELECT manufacturer, COUNT(*) FROM planes\n",
    "   WHERE seats > 200 GROUP BY manufacturer\n",
    "\"\"\", conn)\n",
    "print(task11_s)"
   ]
  },
  {
   "cell_type": "code",
   "execution_count": 134,
   "id": "9e8fa1d0",
   "metadata": {
    "lines_to_next_cell": 2
   },
   "outputs": [
    {
     "name": "stdout",
     "output_type": "stream",
     "text": [
      "       manufacturer  COUNT(*)\n",
      "0            AIRBUS        66\n",
      "1  AIRBUS INDUSTRIE         4\n",
      "2            BOEING       225\n"
     ]
    }
   ],
   "source": [
    "task11_pd = planes.loc[(planes.seats > 200)].groupby(['manufacturer']).size().reset_index(name='COUNT(*)')\n",
    "print(task11_pd)"
   ]
  },
  {
   "cell_type": "markdown",
   "id": "f4644d59",
   "metadata": {},
   "source": [
    "#### Compare the result set of pandas and database\n",
    "On printing both from sql and pandas, we can see values match exactly.\n",
    "\n",
    "Most number of Planes were manufactured by Boeing 225, then by Airbus of 66 units followed by Airbus Industried of 4. \n",
    "\n",
    "Below command will print for any variance between sql and pandas statements. "
   ]
  },
  {
   "cell_type": "code",
   "execution_count": 137,
   "id": "abfce9eb",
   "metadata": {},
   "outputs": [
    {
     "name": "stdout",
     "output_type": "stream",
     "text": [
      "Errors for 11th Task(if any): None\n"
     ]
    }
   ],
   "source": [
    "print(\"Errors for 11th Task(if any):\", pd.testing.assert_frame_equal(task11_s,task11_pd))"
   ]
  },
  {
   "cell_type": "markdown",
   "id": "81101874",
   "metadata": {},
   "source": [
    "#### 12th Task\n",
    "Lets now print manufactures and count of planes manufatured with count of planes more than 10."
   ]
  },
  {
   "cell_type": "code",
   "execution_count": 139,
   "id": "0a86b4cf",
   "metadata": {
    "lines_to_next_cell": 0
   },
   "outputs": [
    {
     "name": "stdout",
     "output_type": "stream",
     "text": [
      "                    manufacturer  COUNT(*)\n",
      "0                         AIRBUS       336\n",
      "1               AIRBUS INDUSTRIE       400\n",
      "2                         BOEING      1630\n",
      "3                 BOMBARDIER INC       368\n",
      "4                        EMBRAER       299\n",
      "5              MCDONNELL DOUGLAS       120\n",
      "6  MCDONNELL DOUGLAS AIRCRAFT CO       103\n",
      "7  MCDONNELL DOUGLAS CORPORATION        14\n"
     ]
    }
   ],
   "source": [
    "task12_s =pd.read_sql_query(\"\"\"\n",
    "   SELECT manufacturer, COUNT(*) FROM planes\n",
    "   GROUP BY manufacturer HAVING COUNT(*) > 10\n",
    "\"\"\", conn)\n",
    "print(task12_s)"
   ]
  },
  {
   "cell_type": "code",
   "execution_count": 142,
   "id": "b76b2e7f",
   "metadata": {
    "lines_to_next_cell": 2
   },
   "outputs": [
    {
     "name": "stdout",
     "output_type": "stream",
     "text": [
      "                    manufacturer  COUNT(*)\n",
      "0                         AIRBUS       336\n",
      "1               AIRBUS INDUSTRIE       400\n",
      "2                         BOEING      1630\n",
      "3                 BOMBARDIER INC       368\n",
      "4                        EMBRAER       299\n",
      "5              MCDONNELL DOUGLAS       120\n",
      "6  MCDONNELL DOUGLAS AIRCRAFT CO       103\n",
      "7  MCDONNELL DOUGLAS CORPORATION        14\n"
     ]
    }
   ],
   "source": [
    "task12_pd = planes.groupby(['manufacturer']).size().reset_index(name='COUNT(*)').query('`COUNT(*)` > 10').reset_index(drop = True)\n",
    "print(task12_pd)"
   ]
  },
  {
   "cell_type": "markdown",
   "id": "f95d4adf",
   "metadata": {},
   "source": [
    "#### Compare the result set of pandas and database\n",
    "On printing both from sql and pandas, we can see values match exactly.\n",
    "\n",
    "Most number of Planes were manufactured by Boeing 1630, then by Airbus Industries amd Bombardier inc.\n",
    "\n",
    "Below command will print for any variance between sql and pandas statements."
   ]
  },
  {
   "cell_type": "code",
   "execution_count": 145,
   "id": "f70d0cc0",
   "metadata": {},
   "outputs": [
    {
     "name": "stdout",
     "output_type": "stream",
     "text": [
      "Errors for 12th Task(if any): None\n"
     ]
    }
   ],
   "source": [
    "print(\"Errors for 12th Task(if any):\", pd.testing.assert_frame_equal(task12_s,task12_pd))"
   ]
  },
  {
   "cell_type": "markdown",
   "id": "21f7d5c9",
   "metadata": {},
   "source": [
    "#### 13th Task\n",
    "Lets now print the manufactures and count of planes manufatured for seats more than 200 with count of manufactured more than 10. "
   ]
  },
  {
   "cell_type": "code",
   "execution_count": 152,
   "id": "a0bbc15d",
   "metadata": {
    "lines_to_next_cell": 0
   },
   "outputs": [
    {
     "name": "stdout",
     "output_type": "stream",
     "text": [
      "  manufacturer  COUNT(*)\n",
      "0       AIRBUS        66\n",
      "1       BOEING       225\n"
     ]
    }
   ],
   "source": [
    "task13_s =pd.read_sql_query(\"\"\"\n",
    "   SELECT manufacturer, COUNT(*) FROM planes\n",
    "WHERE seats > 200 GROUP BY manufacturer HAVING COUNT(*) > 10\n",
    "\"\"\", conn)\n",
    "print(task13_s)"
   ]
  },
  {
   "cell_type": "code",
   "execution_count": 154,
   "id": "73ad3759",
   "metadata": {
    "lines_to_next_cell": 2
   },
   "outputs": [
    {
     "name": "stdout",
     "output_type": "stream",
     "text": [
      "  manufacturer  COUNT(*)\n",
      "0       AIRBUS        66\n",
      "1       BOEING       225\n"
     ]
    }
   ],
   "source": [
    "task13_pd = planes.loc[(planes.seats > 200)].groupby(['manufacturer']).size().reset_index(name='COUNT(*)').query('`COUNT(*)` > 10').reset_index(drop = True)\n",
    "print(task13_pd)"
   ]
  },
  {
   "cell_type": "markdown",
   "id": "bdbbabc9",
   "metadata": {},
   "source": [
    "#### Compare the result set of pandas and database\n",
    "On printing both from sql and pandas, we can see values match exactly.\n",
    "\n",
    "As we saw before, only two records remain and AIRBUS Industries falls off the list as it manufactured only 4. \n",
    "\n",
    "Below command will print for any variance between sql and pandas statements."
   ]
  },
  {
   "cell_type": "code",
   "execution_count": 158,
   "id": "af05fe1e",
   "metadata": {},
   "outputs": [
    {
     "name": "stdout",
     "output_type": "stream",
     "text": [
      "Errors for 13th Task(if any): None\n"
     ]
    }
   ],
   "source": [
    "print(\"Errors for 13th Task(if any):\", pd.testing.assert_frame_equal(task13_s,task13_pd))"
   ]
  },
  {
   "cell_type": "markdown",
   "id": "8567bc94",
   "metadata": {},
   "source": [
    "#### 14th Task\n",
    "Lets now print manufacturer and how many planes were manufactured for the most manufactured firs 10 records. "
   ]
  },
  {
   "cell_type": "code",
   "execution_count": 161,
   "id": "df2fd8db",
   "metadata": {
    "lines_to_next_cell": 0
   },
   "outputs": [
    {
     "name": "stdout",
     "output_type": "stream",
     "text": [
      "                    manufacturer  howmany\n",
      "0                         BOEING     1630\n",
      "1               AIRBUS INDUSTRIE      400\n",
      "2                 BOMBARDIER INC      368\n",
      "3                         AIRBUS      336\n",
      "4                        EMBRAER      299\n",
      "5              MCDONNELL DOUGLAS      120\n",
      "6  MCDONNELL DOUGLAS AIRCRAFT CO      103\n",
      "7  MCDONNELL DOUGLAS CORPORATION       14\n",
      "8                         CESSNA        9\n",
      "9                       CANADAIR        9\n"
     ]
    }
   ],
   "source": [
    "task14_s =pd.read_sql_query(\"\"\"\n",
    "   SELECT manufacturer, COUNT(*) AS howmany\n",
    "FROM planes\n",
    "GROUP BY manufacturer\n",
    "ORDER BY howmany DESC LIMIT 10\n",
    "\"\"\", conn)\n",
    "print(task14_s)"
   ]
  },
  {
   "cell_type": "code",
   "execution_count": 163,
   "id": "3fcea1fd",
   "metadata": {
    "lines_to_next_cell": 2
   },
   "outputs": [
    {
     "name": "stdout",
     "output_type": "stream",
     "text": [
      "                    manufacturer  howmany\n",
      "0                         BOEING     1630\n",
      "1               AIRBUS INDUSTRIE      400\n",
      "2                 BOMBARDIER INC      368\n",
      "3                         AIRBUS      336\n",
      "4                        EMBRAER      299\n",
      "5              MCDONNELL DOUGLAS      120\n",
      "6  MCDONNELL DOUGLAS AIRCRAFT CO      103\n",
      "7  MCDONNELL DOUGLAS CORPORATION       14\n",
      "8                         CESSNA        9\n",
      "9                       CANADAIR        9\n"
     ]
    }
   ],
   "source": [
    "task14_pd = planes.groupby(['manufacturer']).size().reset_index(name='howmany').reset_index(drop = True).sort_values('howmany',ascending = False).head(10).reset_index(drop=True)\n",
    "print(task14_pd)"
   ]
  },
  {
   "cell_type": "markdown",
   "id": "adea04ab",
   "metadata": {},
   "source": [
    "#### Compare the result set of pandas and database\n",
    "On printing both from sql and pandas, we can see values match exactly.\n",
    "\n",
    "As we saw before, most planes were manufactured by BOEING followed by AIRBUS Indistries, so on and so forth. \n",
    "\n",
    "Below command will print for any variance between sql and pandas statements."
   ]
  },
  {
   "cell_type": "code",
   "execution_count": 166,
   "id": "0483ba00",
   "metadata": {},
   "outputs": [
    {
     "name": "stdout",
     "output_type": "stream",
     "text": [
      "Errors for 14th Task(if any): None\n"
     ]
    }
   ],
   "source": [
    "print(\"Errors for 14th Task(if any):\", pd.testing.assert_frame_equal(task14_s,task14_pd))"
   ]
  },
  {
   "cell_type": "markdown",
   "id": "b4b8a37f",
   "metadata": {},
   "source": [
    "#### 15th Task\n",
    "lets now print all the details of dataset flights and year of manufacture, speed and number of seats in the planes. "
   ]
  },
  {
   "cell_type": "code",
   "execution_count": 170,
   "id": "bc68690f",
   "metadata": {
    "lines_to_next_cell": 0
   },
   "outputs": [
    {
     "name": "stdout",
     "output_type": "stream",
     "text": [
      "        year  month  day  dep_time  sched_dep_time  dep_delay  arr_time  \\\n",
      "0       2013      1    1     517.0             515        2.0     830.0   \n",
      "1       2013      1    1     533.0             529        4.0     850.0   \n",
      "2       2013      1    1     542.0             540        2.0     923.0   \n",
      "3       2013      1    1     544.0             545       -1.0    1004.0   \n",
      "4       2013      1    1     554.0             600       -6.0     812.0   \n",
      "...      ...    ...  ...       ...             ...        ...       ...   \n",
      "336771  2013      9   30       NaN            1455        NaN       NaN   \n",
      "336772  2013      9   30       NaN            2200        NaN       NaN   \n",
      "336773  2013      9   30       NaN            1210        NaN       NaN   \n",
      "336774  2013      9   30       NaN            1159        NaN       NaN   \n",
      "336775  2013      9   30       NaN             840        NaN       NaN   \n",
      "\n",
      "        sched_arr_time  arr_delay carrier  ...  origin dest air_time distance  \\\n",
      "0                  819       11.0      UA  ...     EWR  IAH    227.0     1400   \n",
      "1                  830       20.0      UA  ...     LGA  IAH    227.0     1416   \n",
      "2                  850       33.0      AA  ...     JFK  MIA    160.0     1089   \n",
      "3                 1022      -18.0      B6  ...     JFK  BQN    183.0     1576   \n",
      "4                  837      -25.0      DL  ...     LGA  ATL    116.0      762   \n",
      "...                ...        ...     ...  ...     ...  ...      ...      ...   \n",
      "336771            1634        NaN      9E  ...     JFK  DCA      NaN      213   \n",
      "336772            2312        NaN      9E  ...     LGA  SYR      NaN      198   \n",
      "336773            1330        NaN      MQ  ...     LGA  BNA      NaN      764   \n",
      "336774            1344        NaN      MQ  ...     LGA  CLE      NaN      419   \n",
      "336775            1020        NaN      MQ  ...     LGA  RDU      NaN      431   \n",
      "\n",
      "        hour  minute            time_hour  plane_year plane_speed  plane_seats  \n",
      "0          5      15  2013-01-01 05:00:00      1999.0         NaN        149.0  \n",
      "1          5      29  2013-01-01 05:00:00      1998.0         NaN        149.0  \n",
      "2          5      40  2013-01-01 05:00:00      1990.0         NaN        178.0  \n",
      "3          5      45  2013-01-01 05:00:00      2012.0         NaN        200.0  \n",
      "4          6       0  2013-01-01 06:00:00      1991.0         NaN        178.0  \n",
      "...      ...     ...                  ...         ...         ...          ...  \n",
      "336771    14      55  2013-09-30 14:00:00         NaN         NaN          NaN  \n",
      "336772    22       0  2013-09-30 22:00:00         NaN         NaN          NaN  \n",
      "336773    12      10  2013-09-30 12:00:00         NaN         NaN          NaN  \n",
      "336774    11      59  2013-09-30 11:00:00         NaN         NaN          NaN  \n",
      "336775     8      40  2013-09-30 08:00:00         NaN         NaN          NaN  \n",
      "\n",
      "[336776 rows x 22 columns]\n"
     ]
    }
   ],
   "source": [
    "task15_s =pd.read_sql_query(\"\"\"\n",
    "   SELECT flights.*, planes.year AS plane_year, planes.speed AS plane_speed,\n",
    "planes.seats AS plane_seats\n",
    "FROM flights LEFT JOIN planes ON flights.tailnum=planes.tailnum\n",
    "\"\"\", conn)\n",
    "print(task15_s)"
   ]
  },
  {
   "cell_type": "code",
   "execution_count": 172,
   "id": "63c925c7",
   "metadata": {
    "lines_to_next_cell": 2
   },
   "outputs": [
    {
     "name": "stdout",
     "output_type": "stream",
     "text": [
      "        year  month  day  dep_time  sched_dep_time  dep_delay  arr_time  \\\n",
      "0       2013      1    1     517.0             515        2.0     830.0   \n",
      "1       2013      1    1     533.0             529        4.0     850.0   \n",
      "2       2013      1    1     542.0             540        2.0     923.0   \n",
      "3       2013      1    1     544.0             545       -1.0    1004.0   \n",
      "4       2013      1    1     554.0             600       -6.0     812.0   \n",
      "...      ...    ...  ...       ...             ...        ...       ...   \n",
      "336771  2013      9   30       NaN            1455        NaN       NaN   \n",
      "336772  2013      9   30       NaN            2200        NaN       NaN   \n",
      "336773  2013      9   30       NaN            1210        NaN       NaN   \n",
      "336774  2013      9   30       NaN            1159        NaN       NaN   \n",
      "336775  2013      9   30       NaN             840        NaN       NaN   \n",
      "\n",
      "        sched_arr_time  arr_delay carrier  ...  origin dest air_time distance  \\\n",
      "0                  819       11.0      UA  ...     EWR  IAH    227.0     1400   \n",
      "1                  830       20.0      UA  ...     LGA  IAH    227.0     1416   \n",
      "2                  850       33.0      AA  ...     JFK  MIA    160.0     1089   \n",
      "3                 1022      -18.0      B6  ...     JFK  BQN    183.0     1576   \n",
      "4                  837      -25.0      DL  ...     LGA  ATL    116.0      762   \n",
      "...                ...        ...     ...  ...     ...  ...      ...      ...   \n",
      "336771            1634        NaN      9E  ...     JFK  DCA      NaN      213   \n",
      "336772            2312        NaN      9E  ...     LGA  SYR      NaN      198   \n",
      "336773            1330        NaN      MQ  ...     LGA  BNA      NaN      764   \n",
      "336774            1344        NaN      MQ  ...     LGA  CLE      NaN      419   \n",
      "336775            1020        NaN      MQ  ...     LGA  RDU      NaN      431   \n",
      "\n",
      "        hour  minute            time_hour  plane_year plane_speed  plane_seats  \n",
      "0          5      15  2013-01-01 05:00:00      1999.0         NaN        149.0  \n",
      "1          5      29  2013-01-01 05:00:00      1998.0         NaN        149.0  \n",
      "2          5      40  2013-01-01 05:00:00      1990.0         NaN        178.0  \n",
      "3          5      45  2013-01-01 05:00:00      2012.0         NaN        200.0  \n",
      "4          6       0  2013-01-01 06:00:00      1991.0         NaN        178.0  \n",
      "...      ...     ...                  ...         ...         ...          ...  \n",
      "336771    14      55  2013-09-30 14:00:00         NaN         NaN          NaN  \n",
      "336772    22       0  2013-09-30 22:00:00         NaN         NaN          NaN  \n",
      "336773    12      10  2013-09-30 12:00:00         NaN         NaN          NaN  \n",
      "336774    11      59  2013-09-30 11:00:00         NaN         NaN          NaN  \n",
      "336775     8      40  2013-09-30 08:00:00         NaN         NaN          NaN  \n",
      "\n",
      "[336776 rows x 22 columns]\n"
     ]
    }
   ],
   "source": [
    "task15_pd = pd.merge(flights, planes[['tailnum', 'year', 'speed', 'seats']],\n",
    "    how='left',on='tailnum'\n",
    ").rename(columns={'year_x': 'year','year_y' : 'plane_year', 'speed' : 'plane_speed','seats':'plane_seats' })\n",
    "print(task15_pd)"
   ]
  },
  {
   "cell_type": "markdown",
   "id": "d805cd30",
   "metadata": {},
   "source": [
    "#### Compare the result set of pandas and database\n",
    "On printing both from sql and pandas, we can see values match exactly.\n",
    "\n",
    "Below command will print for any variance between sql and pandas statements."
   ]
  },
  {
   "cell_type": "code",
   "execution_count": null,
   "id": "e00ba548",
   "metadata": {},
   "outputs": [],
   "source": [
    "print(\"Errors for 15th Task(if any):\", pd.testing.assert_frame_equal(task15_s,task15_pd))"
   ]
  },
  {
   "cell_type": "markdown",
   "id": "52db6a9b",
   "metadata": {},
   "source": [
    "#### 16th Task\n",
    "Lets now print all different features of planes and airplanes while getting details of carrier and tail numbers. "
   ]
  },
  {
   "cell_type": "code",
   "execution_count": 176,
   "id": "d3ca5820",
   "metadata": {
    "lines_to_next_cell": 0
   },
   "outputs": [
    {
     "name": "stdout",
     "output_type": "stream",
     "text": [
      "     tailnum    year                     type                   manufacturer  \\\n",
      "0     N10156  2004.0  Fixed wing multi engine                        EMBRAER   \n",
      "1     N102UW  1998.0  Fixed wing multi engine               AIRBUS INDUSTRIE   \n",
      "2     N103US  1999.0  Fixed wing multi engine               AIRBUS INDUSTRIE   \n",
      "3     N104UW  1999.0  Fixed wing multi engine               AIRBUS INDUSTRIE   \n",
      "4     N10575  2002.0  Fixed wing multi engine                        EMBRAER   \n",
      "...      ...     ...                      ...                            ...   \n",
      "3334  N997AT  2002.0  Fixed wing multi engine                         BOEING   \n",
      "3335  N997DL  1992.0  Fixed wing multi engine  MCDONNELL DOUGLAS AIRCRAFT CO   \n",
      "3336  N998AT  2002.0  Fixed wing multi engine                         BOEING   \n",
      "3337  N998DL  1992.0  Fixed wing multi engine  MCDONNELL DOUGLAS CORPORATION   \n",
      "3338  N999DN  1992.0  Fixed wing multi engine  MCDONNELL DOUGLAS CORPORATION   \n",
      "\n",
      "          model  engines  seats  speed     engine carrier  \\\n",
      "0     EMB-145XR        2     55    NaN  Turbo-fan      EV   \n",
      "1      A320-214        2    182    NaN  Turbo-fan      US   \n",
      "2      A320-214        2    182    NaN  Turbo-fan      US   \n",
      "3      A320-214        2    182    NaN  Turbo-fan      US   \n",
      "4     EMB-145LR        2     55    NaN  Turbo-fan      EV   \n",
      "...         ...      ...    ...    ...        ...     ...   \n",
      "3334    717-200        2    100    NaN  Turbo-fan      FL   \n",
      "3335      MD-88        2    142    NaN  Turbo-fan      DL   \n",
      "3336    717-200        2    100    NaN  Turbo-fan      FL   \n",
      "3337      MD-88        2    142    NaN  Turbo-jet      DL   \n",
      "3338      MD-88        2    142    NaN  Turbo-jet      DL   \n",
      "\n",
      "                             name  \n",
      "0        ExpressJet Airlines Inc.  \n",
      "1                 US Airways Inc.  \n",
      "2                 US Airways Inc.  \n",
      "3                 US Airways Inc.  \n",
      "4        ExpressJet Airlines Inc.  \n",
      "...                           ...  \n",
      "3334  AirTran Airways Corporation  \n",
      "3335         Delta Air Lines Inc.  \n",
      "3336  AirTran Airways Corporation  \n",
      "3337         Delta Air Lines Inc.  \n",
      "3338         Delta Air Lines Inc.  \n",
      "\n",
      "[3339 rows x 11 columns]\n"
     ]
    }
   ],
   "source": [
    "task16_s =pd.read_sql_query(\"\"\"\n",
    "   SELECT planes.*, airlines.* FROM\n",
    "(SELECT DISTINCT carrier, tailnum FROM flights) AS cartail\n",
    "INNER JOIN planes ON cartail.tailnum=planes.tailnum\n",
    "INNER JOIN airlines ON cartail.carrier=airlines.carrier\n",
    "\"\"\", conn)\n",
    "task16_s=task16_s.sort_values(['tailnum','year','type','manufacturer','model','engines','seats','speed','engine','carrier','name'])\n",
    "print(task16_s)"
   ]
  },
  {
   "cell_type": "code",
   "execution_count": 178,
   "id": "3defda27",
   "metadata": {
    "lines_to_next_cell": 2
   },
   "outputs": [
    {
     "name": "stdout",
     "output_type": "stream",
     "text": [
      "     tailnum    year                     type                   manufacturer  \\\n",
      "0     N10156  2004.0  Fixed wing multi engine                        EMBRAER   \n",
      "1     N102UW  1998.0  Fixed wing multi engine               AIRBUS INDUSTRIE   \n",
      "2     N103US  1999.0  Fixed wing multi engine               AIRBUS INDUSTRIE   \n",
      "3     N104UW  1999.0  Fixed wing multi engine               AIRBUS INDUSTRIE   \n",
      "4     N10575  2002.0  Fixed wing multi engine                        EMBRAER   \n",
      "...      ...     ...                      ...                            ...   \n",
      "3334  N997AT  2002.0  Fixed wing multi engine                         BOEING   \n",
      "3335  N997DL  1992.0  Fixed wing multi engine  MCDONNELL DOUGLAS AIRCRAFT CO   \n",
      "3336  N998AT  2002.0  Fixed wing multi engine                         BOEING   \n",
      "3337  N998DL  1992.0  Fixed wing multi engine  MCDONNELL DOUGLAS CORPORATION   \n",
      "3338  N999DN  1992.0  Fixed wing multi engine  MCDONNELL DOUGLAS CORPORATION   \n",
      "\n",
      "          model  engines  seats  speed     engine carrier  \\\n",
      "0     EMB-145XR        2     55    NaN  Turbo-fan      EV   \n",
      "1      A320-214        2    182    NaN  Turbo-fan      US   \n",
      "2      A320-214        2    182    NaN  Turbo-fan      US   \n",
      "3      A320-214        2    182    NaN  Turbo-fan      US   \n",
      "4     EMB-145LR        2     55    NaN  Turbo-fan      EV   \n",
      "...         ...      ...    ...    ...        ...     ...   \n",
      "3334    717-200        2    100    NaN  Turbo-fan      FL   \n",
      "3335      MD-88        2    142    NaN  Turbo-fan      DL   \n",
      "3336    717-200        2    100    NaN  Turbo-fan      FL   \n",
      "3337      MD-88        2    142    NaN  Turbo-jet      DL   \n",
      "3338      MD-88        2    142    NaN  Turbo-jet      DL   \n",
      "\n",
      "                             name  \n",
      "0        ExpressJet Airlines Inc.  \n",
      "1                 US Airways Inc.  \n",
      "2                 US Airways Inc.  \n",
      "3                 US Airways Inc.  \n",
      "4        ExpressJet Airlines Inc.  \n",
      "...                           ...  \n",
      "3334  AirTran Airways Corporation  \n",
      "3335         Delta Air Lines Inc.  \n",
      "3336  AirTran Airways Corporation  \n",
      "3337         Delta Air Lines Inc.  \n",
      "3338         Delta Air Lines Inc.  \n",
      "\n",
      "[3339 rows x 11 columns]\n"
     ]
    }
   ],
   "source": [
    "cartail = flights[['carrier', 'tailnum']].drop_duplicates()\n",
    "task16_pd =pd.merge(planes,cartail, how = 'inner', on='tailnum')\n",
    "task16_pd =pd.merge(task16_pd,airlines, how = 'inner', on='carrier')\n",
    "task16_pd =task16_pd.sort_values(['tailnum','year','type','manufacturer','model','engines','seats','speed','engine','carrier','name']).reset_index(drop=True)\n",
    "print(task16_pd)"
   ]
  },
  {
   "cell_type": "markdown",
   "id": "6fee3484",
   "metadata": {},
   "source": [
    "#### Compare the result set of pandas and database\n",
    "On printing both from sql and pandas, we can see values match exactly.\n",
    "\n",
    "Below command will print for any variance between sql and pandas statements."
   ]
  },
  {
   "cell_type": "code",
   "execution_count": 181,
   "id": "e0c96364",
   "metadata": {},
   "outputs": [
    {
     "name": "stdout",
     "output_type": "stream",
     "text": [
      "Errors for 16th Task(if any): None\n"
     ]
    }
   ],
   "source": [
    "print(\"Errors for 16th Task(if any):\", pd.testing.assert_frame_equal(task16_s,task16_pd))"
   ]
  },
  {
   "cell_type": "markdown",
   "id": "9b120a96",
   "metadata": {},
   "source": [
    "#### 17th Task\n",
    "Lets now check for all the flights which were originated from EWR and check for the average temperature and humidity throughout the year. "
   ]
  },
  {
   "cell_type": "code",
   "execution_count": 184,
   "id": "75d0f7e1",
   "metadata": {
    "lines_to_next_cell": 0
   },
   "outputs": [
    {
     "name": "stdout",
     "output_type": "stream",
     "text": [
      "        year  month  day  dep_time  sched_dep_time  dep_delay  arr_time  \\\n",
      "0       2013      1    1     517.0             515        2.0     830.0   \n",
      "1       2013      1    1     554.0             558       -4.0     740.0   \n",
      "2       2013      1    1     555.0             600       -5.0     913.0   \n",
      "3       2013      1    1     558.0             600       -2.0     923.0   \n",
      "4       2013      1    1     559.0             600       -1.0     854.0   \n",
      "...      ...    ...  ...       ...             ...        ...       ...   \n",
      "120830  2013      9   30    2142.0            2129       13.0    2250.0   \n",
      "120831  2013      9   30    2149.0            2156       -7.0    2245.0   \n",
      "120832  2013      9   30    2150.0            2159       -9.0    2250.0   \n",
      "120833  2013      9   30    2211.0            2059       72.0    2339.0   \n",
      "120834  2013      9   30    2233.0            2113       80.0     112.0   \n",
      "\n",
      "        sched_arr_time  arr_delay carrier  ...  tailnum origin dest air_time  \\\n",
      "0                  819       11.0      UA  ...   N14228    EWR  IAH    227.0   \n",
      "1                  728       12.0      UA  ...   N39463    EWR  ORD    150.0   \n",
      "2                  854       19.0      B6  ...   N516JB    EWR  FLL    158.0   \n",
      "3                  937      -14.0      UA  ...   N53441    EWR  SFO    361.0   \n",
      "4                  902       -8.0      UA  ...   N76515    EWR  LAS    337.0   \n",
      "...                ...        ...     ...  ...      ...    ...  ...      ...   \n",
      "120830            2239       11.0      EV  ...   N12957    EWR  PWM     47.0   \n",
      "120831            2308      -23.0      UA  ...   N813UA    EWR  BOS     37.0   \n",
      "120832            2306      -16.0      EV  ...   N10575    EWR  MHT     39.0   \n",
      "120833            2242       57.0      EV  ...   N12145    EWR  STL    120.0   \n",
      "120834              30       42.0      UA  ...   N578UA    EWR  SFO    318.0   \n",
      "\n",
      "        distance  hour  minute            time_hour    atemp     ahumid  \n",
      "0           1400     5      15  2013-01-01 05:00:00  38.4800  58.386087  \n",
      "1            719     5      58  2013-01-01 05:00:00  38.4800  58.386087  \n",
      "2           1065     6       0  2013-01-01 06:00:00  38.4800  58.386087  \n",
      "3           2565     6       0  2013-01-01 06:00:00  38.4800  58.386087  \n",
      "4           2227     6       0  2013-01-01 06:00:00  38.4800  58.386087  \n",
      "...          ...   ...     ...                  ...      ...        ...  \n",
      "120830       284    21      29  2013-09-30 21:00:00  62.9075  69.806250  \n",
      "120831       200    21      56  2013-09-30 21:00:00  62.9075  69.806250  \n",
      "120832       209    21      59  2013-09-30 21:00:00  62.9075  69.806250  \n",
      "120833       872    20      59  2013-09-30 20:00:00  62.9075  69.806250  \n",
      "120834      2565    21      13  2013-09-30 21:00:00  62.9075  69.806250  \n",
      "\n",
      "[120835 rows x 21 columns]\n"
     ]
    }
   ],
   "source": [
    "task17_s =pd.read_sql_query(\"\"\"\n",
    "   SELECT flights2.*, atemp, ahumid\n",
    "FROM (\n",
    "SELECT * FROM flights WHERE origin='EWR'\n",
    ") AS flights2 LEFT JOIN (\n",
    "SELECT year, month, day, AVG(temp) AS atemp,\n",
    "AVG(humid) AS ahumid\n",
    "FROM weather\n",
    "WHERE origin='EWR'\n",
    "GROUP BY year, month, day ) AS weather2\n",
    "ON flights2.year=weather2.year\n",
    "AND flights2.month=weather2.month\n",
    "AND flights2.day=weather2.day\n",
    "\"\"\", conn)\n",
    "print(task17_s)"
   ]
  },
  {
   "cell_type": "code",
   "execution_count": 186,
   "id": "79cd05b2",
   "metadata": {},
   "outputs": [
    {
     "name": "stdout",
     "output_type": "stream",
     "text": [
      "        year  month  day  dep_time  sched_dep_time  dep_delay  arr_time  \\\n",
      "0       2013      1    1     517.0             515        2.0     830.0   \n",
      "1       2013      1    1     554.0             558       -4.0     740.0   \n",
      "2       2013      1    1     555.0             600       -5.0     913.0   \n",
      "3       2013      1    1     558.0             600       -2.0     923.0   \n",
      "4       2013      1    1     559.0             600       -1.0     854.0   \n",
      "...      ...    ...  ...       ...             ...        ...       ...   \n",
      "120830  2013      9   30    2142.0            2129       13.0    2250.0   \n",
      "120831  2013      9   30    2149.0            2156       -7.0    2245.0   \n",
      "120832  2013      9   30    2150.0            2159       -9.0    2250.0   \n",
      "120833  2013      9   30    2211.0            2059       72.0    2339.0   \n",
      "120834  2013      9   30    2233.0            2113       80.0     112.0   \n",
      "\n",
      "        sched_arr_time  arr_delay carrier  ...  tailnum origin dest air_time  \\\n",
      "0                  819       11.0      UA  ...   N14228    EWR  IAH    227.0   \n",
      "1                  728       12.0      UA  ...   N39463    EWR  ORD    150.0   \n",
      "2                  854       19.0      B6  ...   N516JB    EWR  FLL    158.0   \n",
      "3                  937      -14.0      UA  ...   N53441    EWR  SFO    361.0   \n",
      "4                  902       -8.0      UA  ...   N76515    EWR  LAS    337.0   \n",
      "...                ...        ...     ...  ...      ...    ...  ...      ...   \n",
      "120830            2239       11.0      EV  ...   N12957    EWR  PWM     47.0   \n",
      "120831            2308      -23.0      UA  ...   N813UA    EWR  BOS     37.0   \n",
      "120832            2306      -16.0      EV  ...   N10575    EWR  MHT     39.0   \n",
      "120833            2242       57.0      EV  ...   N12145    EWR  STL    120.0   \n",
      "120834              30       42.0      UA  ...   N578UA    EWR  SFO    318.0   \n",
      "\n",
      "        distance  hour  minute            time_hour    atemp     ahumid  \n",
      "0           1400     5      15  2013-01-01 05:00:00  38.4800  58.386087  \n",
      "1            719     5      58  2013-01-01 05:00:00  38.4800  58.386087  \n",
      "2           1065     6       0  2013-01-01 06:00:00  38.4800  58.386087  \n",
      "3           2565     6       0  2013-01-01 06:00:00  38.4800  58.386087  \n",
      "4           2227     6       0  2013-01-01 06:00:00  38.4800  58.386087  \n",
      "...          ...   ...     ...                  ...      ...        ...  \n",
      "120830       284    21      29  2013-09-30 21:00:00  62.9075  69.806250  \n",
      "120831       200    21      56  2013-09-30 21:00:00  62.9075  69.806250  \n",
      "120832       209    21      59  2013-09-30 21:00:00  62.9075  69.806250  \n",
      "120833       872    20      59  2013-09-30 20:00:00  62.9075  69.806250  \n",
      "120834      2565    21      13  2013-09-30 21:00:00  62.9075  69.806250  \n",
      "\n",
      "[120835 rows x 21 columns]\n"
     ]
    }
   ],
   "source": [
    "weather2 = weather.loc[(weather.origin=='EWR')].groupby([\"year\", \"month\", \"day\"])[[\"temp\", \"humid\"]].mean()\n",
    "weather2.columns=[\"atemp\", \"ahumid\"]\n",
    "weather2=weather2.reset_index()\n",
    "flights2 =flights.loc[(flights.origin == 'EWR')].reset_index(drop = True)\n",
    "task17_pd=pd.merge(flights2,weather2,how = 'left', on=['year','month','day'])\n",
    "print(task17_pd)"
   ]
  },
  {
   "cell_type": "markdown",
   "id": "5db2ab56",
   "metadata": {},
   "source": [
    "#### Compare the result set of pandas and database\n",
    "On printing both from sql and pandas, we can see values match exactly.\n",
    "\n",
    "We can see all differnt departure times and delay in departure or arrival time along with distance covered. \n",
    "\n",
    "Below command will print for any variance between sql and pandas statements."
   ]
  },
  {
   "cell_type": "code",
   "execution_count": 189,
   "id": "bfe098b4",
   "metadata": {},
   "outputs": [
    {
     "name": "stderr",
     "output_type": "stream",
     "text": [
      "C:\\Users\\TARUN KUMAR SARKAR\\AppData\\Local\\Temp\\ipykernel_14756\\2519020596.py:1: FutureWarning: Mismatched null-like values None and nan found. In a future version, pandas equality-testing functions (e.g. assert_frame_equal) will consider these not-matching and raise.\n",
      "  print(\"Errors for 17th Task(if any):\", pd.testing.assert_frame_equal(task17_s,task17_pd))\n"
     ]
    },
    {
     "name": "stdout",
     "output_type": "stream",
     "text": [
      "Errors for 17th Task(if any): None\n"
     ]
    }
   ],
   "source": [
    "print(\"Errors for 17th Task(if any):\", pd.testing.assert_frame_equal(task17_s,task17_pd))"
   ]
  },
  {
   "cell_type": "markdown",
   "id": "614c7d98",
   "metadata": {},
   "source": [
    "# Conclusion\n",
    "### We were able to check and compare for all the results sets for queries and equivalent pandas code set return values which matched.\n",
    "We compared various results set and can see sql and pandas returning similar data set. \n",
    "Although we might need to do further EDA to understand the run times and various departure and arrival nodes. \n",
    "We did check various types of planes and manufactures and various types of engines in the initial set of tasks. "
   ]
  }
 ],
 "metadata": {
  "jupytext": {
   "cell_metadata_filter": "-all",
   "formats": "ipynb,py:percent"
  },
  "kernelspec": {
   "display_name": "Python [conda env:base] *",
   "language": "python",
   "name": "conda-base-py"
  },
  "language_info": {
   "codemirror_mode": {
    "name": "ipython",
    "version": 3
   },
   "file_extension": ".py",
   "mimetype": "text/x-python",
   "name": "python",
   "nbconvert_exporter": "python",
   "pygments_lexer": "ipython3",
   "version": "3.12.7"
  }
 },
 "nbformat": 4,
 "nbformat_minor": 5
}
